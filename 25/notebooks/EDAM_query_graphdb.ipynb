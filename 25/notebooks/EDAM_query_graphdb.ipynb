{
 "cells": [
  {
   "cell_type": "markdown",
   "id": "03c0be05-b884-4263-8332-21671f9db5c4",
   "metadata": {
    "tags": []
   },
   "source": [
    "## Set up\n",
    "First you need to install GraphDB locally on you machine, create a repo where you load the needed data\n"
   ]
  },
  {
   "cell_type": "code",
   "execution_count": null,
   "id": "abf0b4b2-9f5e-411f-8723-2b55acbf9d0b",
   "metadata": {},
   "outputs": [],
   "source": [
    "from rdflib import ConjunctiveGraph\n",
    "from SPARQLWrapper import SPARQLWrapper, JSON\n",
    "\n",
    "import pandas as pd\n",
    "\n",
    "def remoteQuery(query, endpoint):\n",
    "    endpoint.setQuery(query)\n",
    "    try:\n",
    "        result = endpoint.queryAndConvert()\n",
    "        pd.set_option(\"display.max_rows\",None,\"display.max_colwidth\",5000,\"display.width\",5000,)\n",
    "        df = pd.DataFrame(result['results']['bindings'])\n",
    "        df = df.applymap(lambda x: x['value'])\n",
    "        return df\n",
    "        #return (result['results']['bindings'])\n",
    "    except Exception as e:\n",
    "        print(e)\n"
   ]
  },
  {
   "cell_type": "markdown",
   "id": "c3d8bf47-d210-41d7-841f-67fc42549799",
   "metadata": {},
   "source": [
    "\n",
    "### With a GraphDB SPARQL endpoint\n",
    "\n",
    "ep_no_inference points to a SPARQL end point repository in Graphdb where the automatic inferences were deactivated\n",
    "\n",
    "The input for SPARQLWrapper is the link to the GraphDB repository where you loaded the appropriate data set, in this example the dev version of edam was loaded in the GrapphDB repository"
   ]
  },
  {
   "cell_type": "code",
   "execution_count": null,
   "id": "30303cd1-605a-4b2b-89ec-56ce70435175",
   "metadata": {},
   "outputs": [],
   "source": [
    "ep_edam = SPARQLWrapper(\"http://localhost:7200/repositories/biotools\")\n",
    "ep_edam.setReturnFormat(JSON)"
   ]
  },
  {
   "cell_type": "code",
   "execution_count": null,
   "id": "55e5449c-55a4-4326-a31d-1ea20b21d1e5",
   "metadata": {},
   "outputs": [],
   "source": [
    "ep_no_inference = SPARQLWrapper(\"http://localhost:7200/repositories/EDAM_no_inference\")\n",
    "ep_no_inference.setReturnFormat(JSON)"
   ]
  },
  {
   "cell_type": "markdown",
   "id": "718c58c4-0a0e-4d89-9fdd-abfb136653a4",
   "metadata": {
    "tags": []
   },
   "source": [
    "## query to get format without the *is_format_of* property"
   ]
  },
  {
   "cell_type": "code",
   "execution_count": null,
   "id": "e48c4ca9-664a-4a71-905d-f8e65514b360",
   "metadata": {},
   "outputs": [],
   "source": [
    "q = \"\"\"\n",
    "PREFIX obo: <http://purl.obolibrary.org/obo/>\n",
    "PREFIX owl: <http://www.w3.org/2002/07/owl#>\n",
    "PREFIX rdfs: <http://www.w3.org/2000/01/rdf-schema#>\n",
    "PREFIX rdf: <http://www.w3.org/1999/02/22-rdf-syntax-ns#>\n",
    "PREFIX oboInOwl: <http://www.geneontology.org/formats/oboInOwl#>\n",
    "PREFIX edam:<http://edamontology.org/>\n",
    "PREFIX xsd: <http://www.w3.org/2001/XMLSchema#>\n",
    "\n",
    "SELECT ?entity ?label ?property WHERE\n",
    "{\n",
    "  \n",
    "    ?entity rdfs:subClassOf+ edam:format_1915 .\n",
    "    ?entity rdfs:label ?label .\n",
    "\n",
    "     VALUES ?property { edam:is_format_of               \n",
    "                        }\n",
    "    FILTER NOT EXISTS {    \n",
    "        ?entity rdfs:subClassOf ?restriction . \n",
    "        ?restriction rdf:type owl:Restriction ; \n",
    "                owl:onProperty ?property  ; \n",
    "                owl:someValuesFrom ?data.}\n",
    "\n",
    "}ORDER BY ?entity\n",
    "    \n",
    "    \n",
    "\"\"\""
   ]
  },
  {
   "cell_type": "markdown",
   "id": "5f644dc5-70e8-4fe9-821f-cb44768d7a82",
   "metadata": {},
   "source": [
    "- With inferences:"
   ]
  },
  {
   "cell_type": "code",
   "execution_count": null,
   "id": "40831bf4-8832-4ea2-9ea1-6a5e91b52dc4",
   "metadata": {},
   "outputs": [],
   "source": [
    "print(f\"nb formats missing is_format_of property: {len(remoteQuery(query=q, endpoint=ep_edam))}\")\n",
    "remoteQuery(query=q, endpoint=ep_edam)"
   ]
  },
  {
   "cell_type": "markdown",
   "id": "dc17f968-b745-4359-88be-25a35e864729",
   "metadata": {},
   "source": [
    "- Without inferences:"
   ]
  },
  {
   "cell_type": "code",
   "execution_count": null,
   "id": "9ec3cf61-b232-4e4e-ac73-8d369e81edc9",
   "metadata": {},
   "outputs": [],
   "source": [
    "print(f\"nb formats missing is_format_of property: {len(remoteQuery(query=q, endpoint=ep_no_inference))}\")\n",
    "remoteQuery(query=q, endpoint=ep_no_inference)"
   ]
  },
  {
   "cell_type": "markdown",
   "id": "cb88aa41-2073-49c8-8631-25e26b713d4c",
   "metadata": {
    "jp-MarkdownHeadingCollapsed": true,
    "tags": []
   },
   "source": [
    "##  query to get data and operantion without *has_topic* property"
   ]
  },
  {
   "cell_type": "code",
   "execution_count": null,
   "id": "dd69a4bc-aaa9-4708-bac8-03973fe38336",
   "metadata": {},
   "outputs": [],
   "source": [
    "q = \"\"\"\n",
    "PREFIX obo: <http://purl.obolibrary.org/obo/>\n",
    "PREFIX owl: <http://www.w3.org/2002/07/owl#>\n",
    "PREFIX rdfs: <http://www.w3.org/2000/01/rdf-schema#>\n",
    "PREFIX rdf: <http://www.w3.org/1999/02/22-rdf-syntax-ns#>\n",
    "PREFIX oboInOwl: <http://www.geneontology.org/formats/oboInOwl#>\n",
    "PREFIX edam:<http://edamontology.org/>\n",
    "PREFIX xsd: <http://www.w3.org/2001/XMLSchema#>\n",
    "\n",
    "SELECT ?entity ?label ?property WHERE\n",
    "{\n",
    "  \n",
    "    {?entity rdfs:subClassOf+ edam:data_0006 .}\n",
    "    UNION\n",
    "    {?entity rdfs:subClassOf+ edam:operation_0004 .}\n",
    "\n",
    "    ?entity rdfs:label ?label .\n",
    "\n",
    "     VALUES ?property { edam:has_topic               \n",
    "                        }\n",
    "    FILTER NOT EXISTS {    \n",
    "        ?entity rdfs:subClassOf ?restriction . \n",
    "        ?restriction rdf:type owl:Restriction ; \n",
    "                owl:onProperty ?property  ; \n",
    "                owl:someValuesFrom ?topic.}\n",
    "\n",
    "}ORDER BY ?entity\n",
    "    \n",
    "    \n",
    "\"\"\""
   ]
  },
  {
   "cell_type": "code",
   "execution_count": null,
   "id": "5985750a-abcb-4775-ad24-038aa00b460b",
   "metadata": {},
   "outputs": [],
   "source": [
    "print(f\"nb formats missing is_format_of property: {len(remoteQuery(query=q, endpoint=ep_edam))}\")\n",
    "remoteQuery(query=q, endpoint=ep_edam)"
   ]
  },
  {
   "cell_type": "markdown",
   "id": "281cf006-cc22-4343-b4f9-6113e5699ae1",
   "metadata": {
    "tags": []
   },
   "source": [
    "## query to get all *has_topic* property"
   ]
  },
  {
   "cell_type": "code",
   "execution_count": null,
   "id": "6fc49cdf-8c4e-4739-a58f-035b97183efc",
   "metadata": {},
   "outputs": [],
   "source": [
    "q= \"\"\"\n",
    "PREFIX obo: <http://purl.obolibrary.org/obo/>\n",
    "PREFIX owl: <http://www.w3.org/2002/07/owl#>\n",
    "PREFIX rdfs: <http://www.w3.org/2000/01/rdf-schema#>\n",
    "PREFIX rdf: <http://www.w3.org/1999/02/22-rdf-syntax-ns#>\n",
    "PREFIX oboInOwl: <http://www.geneontology.org/formats/oboInOwl#>\n",
    "PREFIX edam:<http://edamontology.org/>\n",
    "PREFIX xsd: <http://www.w3.org/2001/XMLSchema#>\n",
    "\n",
    "SELECT DISTINCT ?entity ?label ?topic ?tlabel\n",
    "WHERE {\n",
    "    ?entity rdfs:subClassOf ?restriction . \n",
    "    ?restriction rdf:type owl:Restriction ; \n",
    "            owl:onProperty edam:has_topic  ; \n",
    "            owl:someValuesFrom ?topic.\n",
    "    ?entity rdfs:label ?label .\n",
    "    ?topic rdfs:label ?tlabel\n",
    "    }\n",
    "\"\"\""
   ]
  },
  {
   "cell_type": "code",
   "execution_count": null,
   "id": "45077694-a648-43fb-a1ed-f958538edae4",
   "metadata": {},
   "outputs": [],
   "source": [
    "print(f\"nb data/operation with has_topic property: {len(remoteQuery(query=q, endpoint=ep_edam))}\")\n",
    "remoteQuery(query=q, endpoint=ep_edam)"
   ]
  },
  {
   "cell_type": "code",
   "execution_count": null,
   "id": "3a9d11e7-0546-4e92-8dd8-616028fe8fd5",
   "metadata": {},
   "outputs": [],
   "source": []
  }
 ],
 "metadata": {
  "kernelspec": {
   "display_name": "Python 3 (ipykernel)",
   "language": "python",
   "name": "python3"
  },
  "language_info": {
   "codemirror_mode": {
    "name": "ipython",
    "version": 3
   },
   "file_extension": ".py",
   "mimetype": "text/x-python",
   "name": "python",
   "nbconvert_exporter": "python",
   "pygments_lexer": "ipython3",
   "version": "3.10.7"
  },
  "vscode": {
   "interpreter": {
    "hash": "31f2aee4e71d21fbe5cf8b01ff0e069b9275f58929596ceb00d14d90e3e16cd6"
   }
  }
 },
 "nbformat": 4,
 "nbformat_minor": 5
}
